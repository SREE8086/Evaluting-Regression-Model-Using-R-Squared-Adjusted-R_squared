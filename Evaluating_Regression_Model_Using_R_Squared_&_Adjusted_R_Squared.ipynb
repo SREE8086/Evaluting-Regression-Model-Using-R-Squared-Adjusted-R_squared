{
  "nbformat": 4,
  "nbformat_minor": 0,
  "metadata": {
    "colab": {
      "name": "Evaluating Regression Model Using R-Squared & Adjusted R- Squared",
      "provenance": []
    },
    "kernelspec": {
      "name": "python3",
      "display_name": "Python 3"
    },
    "language_info": {
      "name": "python"
    }
  },
  "cells": [
    {
      "cell_type": "markdown",
      "source": [
        "# **Importing Basic Libraries**"
      ],
      "metadata": {
        "id": "hiX89MMil-d3"
      }
    },
    {
      "cell_type": "code",
      "execution_count": 201,
      "metadata": {
        "id": "RWs9DLLVckK0"
      },
      "outputs": [],
      "source": [
        "import pandas as pd\n",
        "import numpy as np\n",
        "from sklearn.linear_model import LinearRegression\n",
        "import matplotlib.pyplot as plt"
      ]
    },
    {
      "cell_type": "markdown",
      "source": [
        "# **Load dataset from Local Directory**"
      ],
      "metadata": {
        "id": "kA3M9hUAmqZw"
      }
    },
    {
      "cell_type": "code",
      "source": [
        "from google.colab import files\n",
        "uploaded = files.upload()"
      ],
      "metadata": {
        "id": "D3aawUw5cky0",
        "colab": {
          "resources": {
            "http://localhost:8080/nbextensions/google.colab/files.js": {
              "data": "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",
              "ok": true,
              "headers": [
                [
                  "content-type",
                  "application/javascript"
                ]
              ],
              "status": 200,
              "status_text": ""
            }
          },
          "base_uri": "https://localhost:8080/",
          "height": 74
        },
        "outputId": "0455f354-267f-4977-f952-84effcdb168b"
      },
      "execution_count": 202,
      "outputs": [
        {
          "output_type": "display_data",
          "data": {
            "text/plain": [
              "<IPython.core.display.HTML object>"
            ],
            "text/html": [
              "\n",
              "     <input type=\"file\" id=\"files-f81487ae-3333-41c6-a541-8eab7dd0110e\" name=\"files[]\" multiple disabled\n",
              "        style=\"border:none\" />\n",
              "     <output id=\"result-f81487ae-3333-41c6-a541-8eab7dd0110e\">\n",
              "      Upload widget is only available when the cell has been executed in the\n",
              "      current browser session. Please rerun this cell to enable.\n",
              "      </output>\n",
              "      <script src=\"/nbextensions/google.colab/files.js\"></script> "
            ]
          },
          "metadata": {}
        },
        {
          "output_type": "stream",
          "name": "stdout",
          "text": [
            "Saving dataset2.csv to dataset2 (5).csv\n"
          ]
        }
      ]
    },
    {
      "cell_type": "code",
      "source": [
        "df = pd.read_csv('dataset2.csv')"
      ],
      "metadata": {
        "id": "mVcSPXZBck0h"
      },
      "execution_count": 216,
      "outputs": []
    },
    {
      "cell_type": "markdown",
      "source": [
        "# **Summarize Dataset**"
      ],
      "metadata": {
        "id": "_xKG7HWanaiZ"
      }
    },
    {
      "cell_type": "code",
      "source": [
        "df.head()"
      ],
      "metadata": {
        "id": "VKUKMhlYck2d",
        "colab": {
          "base_uri": "https://localhost:8080/",
          "height": 206
        },
        "outputId": "a64aaf2c-4472-4a08-cfdc-541e83ae58aa"
      },
      "execution_count": 217,
      "outputs": [
        {
          "output_type": "execute_result",
          "data": {
            "text/plain": [
              "    area   price\n",
              "0   8450  208500\n",
              "1   9600  181500\n",
              "2  11250  223500\n",
              "3   9550  140000\n",
              "4  14260  250000"
            ],
            "text/html": [
              "\n",
              "  <div id=\"df-e6b6c524-af5f-4c0f-b313-f30672c5987e\">\n",
              "    <div class=\"colab-df-container\">\n",
              "      <div>\n",
              "<style scoped>\n",
              "    .dataframe tbody tr th:only-of-type {\n",
              "        vertical-align: middle;\n",
              "    }\n",
              "\n",
              "    .dataframe tbody tr th {\n",
              "        vertical-align: top;\n",
              "    }\n",
              "\n",
              "    .dataframe thead th {\n",
              "        text-align: right;\n",
              "    }\n",
              "</style>\n",
              "<table border=\"1\" class=\"dataframe\">\n",
              "  <thead>\n",
              "    <tr style=\"text-align: right;\">\n",
              "      <th></th>\n",
              "      <th>area</th>\n",
              "      <th>price</th>\n",
              "    </tr>\n",
              "  </thead>\n",
              "  <tbody>\n",
              "    <tr>\n",
              "      <th>0</th>\n",
              "      <td>8450</td>\n",
              "      <td>208500</td>\n",
              "    </tr>\n",
              "    <tr>\n",
              "      <th>1</th>\n",
              "      <td>9600</td>\n",
              "      <td>181500</td>\n",
              "    </tr>\n",
              "    <tr>\n",
              "      <th>2</th>\n",
              "      <td>11250</td>\n",
              "      <td>223500</td>\n",
              "    </tr>\n",
              "    <tr>\n",
              "      <th>3</th>\n",
              "      <td>9550</td>\n",
              "      <td>140000</td>\n",
              "    </tr>\n",
              "    <tr>\n",
              "      <th>4</th>\n",
              "      <td>14260</td>\n",
              "      <td>250000</td>\n",
              "    </tr>\n",
              "  </tbody>\n",
              "</table>\n",
              "</div>\n",
              "      <button class=\"colab-df-convert\" onclick=\"convertToInteractive('df-e6b6c524-af5f-4c0f-b313-f30672c5987e')\"\n",
              "              title=\"Convert this dataframe to an interactive table.\"\n",
              "              style=\"display:none;\">\n",
              "        \n",
              "  <svg xmlns=\"http://www.w3.org/2000/svg\" height=\"24px\"viewBox=\"0 0 24 24\"\n",
              "       width=\"24px\">\n",
              "    <path d=\"M0 0h24v24H0V0z\" fill=\"none\"/>\n",
              "    <path d=\"M18.56 5.44l.94 2.06.94-2.06 2.06-.94-2.06-.94-.94-2.06-.94 2.06-2.06.94zm-11 1L8.5 8.5l.94-2.06 2.06-.94-2.06-.94L8.5 2.5l-.94 2.06-2.06.94zm10 10l.94 2.06.94-2.06 2.06-.94-2.06-.94-.94-2.06-.94 2.06-2.06.94z\"/><path d=\"M17.41 7.96l-1.37-1.37c-.4-.4-.92-.59-1.43-.59-.52 0-1.04.2-1.43.59L10.3 9.45l-7.72 7.72c-.78.78-.78 2.05 0 2.83L4 21.41c.39.39.9.59 1.41.59.51 0 1.02-.2 1.41-.59l7.78-7.78 2.81-2.81c.8-.78.8-2.07 0-2.86zM5.41 20L4 18.59l7.72-7.72 1.47 1.35L5.41 20z\"/>\n",
              "  </svg>\n",
              "      </button>\n",
              "      \n",
              "  <style>\n",
              "    .colab-df-container {\n",
              "      display:flex;\n",
              "      flex-wrap:wrap;\n",
              "      gap: 12px;\n",
              "    }\n",
              "\n",
              "    .colab-df-convert {\n",
              "      background-color: #E8F0FE;\n",
              "      border: none;\n",
              "      border-radius: 50%;\n",
              "      cursor: pointer;\n",
              "      display: none;\n",
              "      fill: #1967D2;\n",
              "      height: 32px;\n",
              "      padding: 0 0 0 0;\n",
              "      width: 32px;\n",
              "    }\n",
              "\n",
              "    .colab-df-convert:hover {\n",
              "      background-color: #E2EBFA;\n",
              "      box-shadow: 0px 1px 2px rgba(60, 64, 67, 0.3), 0px 1px 3px 1px rgba(60, 64, 67, 0.15);\n",
              "      fill: #174EA6;\n",
              "    }\n",
              "\n",
              "    [theme=dark] .colab-df-convert {\n",
              "      background-color: #3B4455;\n",
              "      fill: #D2E3FC;\n",
              "    }\n",
              "\n",
              "    [theme=dark] .colab-df-convert:hover {\n",
              "      background-color: #434B5C;\n",
              "      box-shadow: 0px 1px 3px 1px rgba(0, 0, 0, 0.15);\n",
              "      filter: drop-shadow(0px 1px 2px rgba(0, 0, 0, 0.3));\n",
              "      fill: #FFFFFF;\n",
              "    }\n",
              "  </style>\n",
              "\n",
              "      <script>\n",
              "        const buttonEl =\n",
              "          document.querySelector('#df-e6b6c524-af5f-4c0f-b313-f30672c5987e button.colab-df-convert');\n",
              "        buttonEl.style.display =\n",
              "          google.colab.kernel.accessAllowed ? 'block' : 'none';\n",
              "\n",
              "        async function convertToInteractive(key) {\n",
              "          const element = document.querySelector('#df-e6b6c524-af5f-4c0f-b313-f30672c5987e');\n",
              "          const dataTable =\n",
              "            await google.colab.kernel.invokeFunction('convertToInteractive',\n",
              "                                                     [key], {});\n",
              "          if (!dataTable) return;\n",
              "\n",
              "          const docLinkHtml = 'Like what you see? Visit the ' +\n",
              "            '<a target=\"_blank\" href=https://colab.research.google.com/notebooks/data_table.ipynb>data table notebook</a>'\n",
              "            + ' to learn more about interactive tables.';\n",
              "          element.innerHTML = '';\n",
              "          dataTable['output_type'] = 'display_data';\n",
              "          await google.colab.output.renderOutput(dataTable, element);\n",
              "          const docLink = document.createElement('div');\n",
              "          docLink.innerHTML = docLinkHtml;\n",
              "          element.appendChild(docLink);\n",
              "        }\n",
              "      </script>\n",
              "    </div>\n",
              "  </div>\n",
              "  "
            ]
          },
          "metadata": {},
          "execution_count": 217
        }
      ]
    },
    {
      "cell_type": "code",
      "source": [
        "df.shape"
      ],
      "metadata": {
        "id": "cjeJXBzick4P",
        "colab": {
          "base_uri": "https://localhost:8080/"
        },
        "outputId": "450ad7fa-f575-4c3e-b2e9-358fac13c0a5"
      },
      "execution_count": 218,
      "outputs": [
        {
          "output_type": "execute_result",
          "data": {
            "text/plain": [
              "(1460, 2)"
            ]
          },
          "metadata": {},
          "execution_count": 218
        }
      ]
    },
    {
      "cell_type": "code",
      "source": [
        "df.info()"
      ],
      "metadata": {
        "id": "2jDfGfcnck6H",
        "colab": {
          "base_uri": "https://localhost:8080/"
        },
        "outputId": "49314247-6257-410f-f14e-829578d0e3bc"
      },
      "execution_count": 219,
      "outputs": [
        {
          "output_type": "stream",
          "name": "stdout",
          "text": [
            "<class 'pandas.core.frame.DataFrame'>\n",
            "RangeIndex: 1460 entries, 0 to 1459\n",
            "Data columns (total 2 columns):\n",
            " #   Column  Non-Null Count  Dtype\n",
            "---  ------  --------------  -----\n",
            " 0   area    1460 non-null   int64\n",
            " 1   price   1460 non-null   int64\n",
            "dtypes: int64(2)\n",
            "memory usage: 22.9 KB\n"
          ]
        }
      ]
    },
    {
      "cell_type": "markdown",
      "source": [
        "# **Visualizing Dataset**"
      ],
      "metadata": {
        "id": "LP63KPEunrYk"
      }
    },
    {
      "cell_type": "code",
      "source": [
        "plt.xlabel('area')\n",
        "plt.ylabel('price')\n",
        "plt.scatter(df.area,df.price, color = 'red', marker = '*')\n",
        "plt.show()"
      ],
      "metadata": {
        "id": "u9lSIE_Lck8A",
        "colab": {
          "base_uri": "https://localhost:8080/",
          "height": 279
        },
        "outputId": "80a1b873-49a4-425d-d62d-1c87d487ccf5"
      },
      "execution_count": 220,
      "outputs": [
        {
          "output_type": "display_data",
          "data": {
            "text/plain": [
              "<Figure size 432x288 with 1 Axes>"
            ],
            "image/png": "[encoded data removed]"
          },
          "metadata": {
            "needs_background": "light"
          }
        }
      ]
    },
    {
      "cell_type": "markdown",
      "source": [
        "# **Segregating Dataset into x(input) & y(output)**"
      ],
      "metadata": {
        "id": "SNrHizFYoZKZ"
      }
    },
    {
      "cell_type": "code",
      "source": [
        "x = df.drop('price', axis = 1)\n",
        "x"
      ],
      "metadata": {
        "id": "BcJcKjp8ck96",
        "colab": {
          "base_uri": "https://localhost:8080/",
          "height": 423
        },
        "outputId": "c193ed4b-da35-4b56-b178-0e8b6a8cd6a5"
      },
      "execution_count": 221,
      "outputs": [
        {
          "output_type": "execute_result",
          "data": {
            "text/plain": [
              "       area\n",
              "0      8450\n",
              "1      9600\n",
              "2     11250\n",
              "3      9550\n",
              "4     14260\n",
              "...     ...\n",
              "1455   7917\n",
              "1456  13175\n",
              "1457   9042\n",
              "1458   9717\n",
              "1459   9937\n",
              "\n",
              "[1460 rows x 1 columns]"
            ],
            "text/html": [
              "\n",
              "  <div id=\"df-17b869cc-b11f-4f5a-be1c-7110aaddea3d\">\n",
              "    <div class=\"colab-df-container\">\n",
              "      <div>\n",
              "<style scoped>\n",
              "    .dataframe tbody tr th:only-of-type {\n",
              "        vertical-align: middle;\n",
              "    }\n",
              "\n",
              "    .dataframe tbody tr th {\n",
              "        vertical-align: top;\n",
              "    }\n",
              "\n",
              "    .dataframe thead th {\n",
              "        text-align: right;\n",
              "    }\n",
              "</style>\n",
              "<table border=\"1\" class=\"dataframe\">\n",
              "  <thead>\n",
              "    <tr style=\"text-align: right;\">\n",
              "      <th></th>\n",
              "      <th>area</th>\n",
              "    </tr>\n",
              "  </thead>\n",
              "  <tbody>\n",
              "    <tr>\n",
              "      <th>0</th>\n",
              "      <td>8450</td>\n",
              "    </tr>\n",
              "    <tr>\n",
              "      <th>1</th>\n",
              "      <td>9600</td>\n",
              "    </tr>\n",
              "    <tr>\n",
              "      <th>2</th>\n",
              "      <td>11250</td>\n",
              "    </tr>\n",
              "    <tr>\n",
              "      <th>3</th>\n",
              "      <td>9550</td>\n",
              "    </tr>\n",
              "    <tr>\n",
              "      <th>4</th>\n",
              "      <td>14260</td>\n",
              "    </tr>\n",
              "    <tr>\n",
              "      <th>...</th>\n",
              "      <td>...</td>\n",
              "    </tr>\n",
              "    <tr>\n",
              "      <th>1455</th>\n",
              "      <td>7917</td>\n",
              "    </tr>\n",
              "    <tr>\n",
              "      <th>1456</th>\n",
              "      <td>13175</td>\n",
              "    </tr>\n",
              "    <tr>\n",
              "      <th>1457</th>\n",
              "      <td>9042</td>\n",
              "    </tr>\n",
              "    <tr>\n",
              "      <th>1458</th>\n",
              "      <td>9717</td>\n",
              "    </tr>\n",
              "    <tr>\n",
              "      <th>1459</th>\n",
              "      <td>9937</td>\n",
              "    </tr>\n",
              "  </tbody>\n",
              "</table>\n",
              "<p>1460 rows × 1 columns</p>\n",
              "</div>\n",
              "      <button class=\"colab-df-convert\" onclick=\"convertToInteractive('df-17b869cc-b11f-4f5a-be1c-7110aaddea3d')\"\n",
              "              title=\"Convert this dataframe to an interactive table.\"\n",
              "              style=\"display:none;\">\n",
              "        \n",
              "  <svg xmlns=\"http://www.w3.org/2000/svg\" height=\"24px\"viewBox=\"0 0 24 24\"\n",
              "       width=\"24px\">\n",
              "    <path d=\"M0 0h24v24H0V0z\" fill=\"none\"/>\n",
              "    <path d=\"M18.56 5.44l.94 2.06.94-2.06 2.06-.94-2.06-.94-.94-2.06-.94 2.06-2.06.94zm-11 1L8.5 8.5l.94-2.06 2.06-.94-2.06-.94L8.5 2.5l-.94 2.06-2.06.94zm10 10l.94 2.06.94-2.06 2.06-.94-2.06-.94-.94-2.06-.94 2.06-2.06.94z\"/><path d=\"M17.41 7.96l-1.37-1.37c-.4-.4-.92-.59-1.43-.59-.52 0-1.04.2-1.43.59L10.3 9.45l-7.72 7.72c-.78.78-.78 2.05 0 2.83L4 21.41c.39.39.9.59 1.41.59.51 0 1.02-.2 1.41-.59l7.78-7.78 2.81-2.81c.8-.78.8-2.07 0-2.86zM5.41 20L4 18.59l7.72-7.72 1.47 1.35L5.41 20z\"/>\n",
              "  </svg>\n",
              "      </button>\n",
              "      \n",
              "  <style>\n",
              "    .colab-df-container {\n",
              "      display:flex;\n",
              "      flex-wrap:wrap;\n",
              "      gap: 12px;\n",
              "    }\n",
              "\n",
              "    .colab-df-convert {\n",
              "      background-color: #E8F0FE;\n",
              "      border: none;\n",
              "      border-radius: 50%;\n",
              "      cursor: pointer;\n",
              "      display: none;\n",
              "      fill: #1967D2;\n",
              "      height: 32px;\n",
              "      padding: 0 0 0 0;\n",
              "      width: 32px;\n",
              "    }\n",
              "\n",
              "    .colab-df-convert:hover {\n",
              "      background-color: #E2EBFA;\n",
              "      box-shadow: 0px 1px 2px rgba(60, 64, 67, 0.3), 0px 1px 3px 1px rgba(60, 64, 67, 0.15);\n",
              "      fill: #174EA6;\n",
              "    }\n",
              "\n",
              "    [theme=dark] .colab-df-convert {\n",
              "      background-color: #3B4455;\n",
              "      fill: #D2E3FC;\n",
              "    }\n",
              "\n",
              "    [theme=dark] .colab-df-convert:hover {\n",
              "      background-color: #434B5C;\n",
              "      box-shadow: 0px 1px 3px 1px rgba(0, 0, 0, 0.15);\n",
              "      filter: drop-shadow(0px 1px 2px rgba(0, 0, 0, 0.3));\n",
              "      fill: #FFFFFF;\n",
              "    }\n",
              "  </style>\n",
              "\n",
              "      <script>\n",
              "        const buttonEl =\n",
              "          document.querySelector('#df-17b869cc-b11f-4f5a-be1c-7110aaddea3d button.colab-df-convert');\n",
              "        buttonEl.style.display =\n",
              "          google.colab.kernel.accessAllowed ? 'block' : 'none';\n",
              "\n",
              "        async function convertToInteractive(key) {\n",
              "          const element = document.querySelector('#df-17b869cc-b11f-4f5a-be1c-7110aaddea3d');\n",
              "          const dataTable =\n",
              "            await google.colab.kernel.invokeFunction('convertToInteractive',\n",
              "                                                     [key], {});\n",
              "          if (!dataTable) return;\n",
              "\n",
              "          const docLinkHtml = 'Like what you see? Visit the ' +\n",
              "            '<a target=\"_blank\" href=https://colab.research.google.com/notebooks/data_table.ipynb>data table notebook</a>'\n",
              "            + ' to learn more about interactive tables.';\n",
              "          element.innerHTML = '';\n",
              "          dataTable['output_type'] = 'display_data';\n",
              "          await google.colab.output.renderOutput(dataTable, element);\n",
              "          const docLink = document.createElement('div');\n",
              "          docLink.innerHTML = docLinkHtml;\n",
              "          element.appendChild(docLink);\n",
              "        }\n",
              "      </script>\n",
              "    </div>\n",
              "  </div>\n",
              "  "
            ]
          },
          "metadata": {},
          "execution_count": 221
        }
      ]
    },
    {
      "cell_type": "code",
      "source": [
        "y = df[['price']]\n",
        "y"
      ],
      "metadata": {
        "id": "WUCgBUK5ck_u",
        "colab": {
          "base_uri": "https://localhost:8080/",
          "height": 423
        },
        "outputId": "9c3fc0eb-b8ac-4e41-e2e2-dc26845c18f4"
      },
      "execution_count": 222,
      "outputs": [
        {
          "output_type": "execute_result",
          "data": {
            "text/plain": [
              "       price\n",
              "0     208500\n",
              "1     181500\n",
              "2     223500\n",
              "3     140000\n",
              "4     250000\n",
              "...      ...\n",
              "1455  175000\n",
              "1456  210000\n",
              "1457  266500\n",
              "1458  142125\n",
              "1459  147500\n",
              "\n",
              "[1460 rows x 1 columns]"
            ],
            "text/html": [
              "\n",
              "  <div id=\"df-9645edd5-d7a8-4e3e-8687-11312215b089\">\n",
              "    <div class=\"colab-df-container\">\n",
              "      <div>\n",
              "<style scoped>\n",
              "    .dataframe tbody tr th:only-of-type {\n",
              "        vertical-align: middle;\n",
              "    }\n",
              "\n",
              "    .dataframe tbody tr th {\n",
              "        vertical-align: top;\n",
              "    }\n",
              "\n",
              "    .dataframe thead th {\n",
              "        text-align: right;\n",
              "    }\n",
              "</style>\n",
              "<table border=\"1\" class=\"dataframe\">\n",
              "  <thead>\n",
              "    <tr style=\"text-align: right;\">\n",
              "      <th></th>\n",
              "      <th>price</th>\n",
              "    </tr>\n",
              "  </thead>\n",
              "  <tbody>\n",
              "    <tr>\n",
              "      <th>0</th>\n",
              "      <td>208500</td>\n",
              "    </tr>\n",
              "    <tr>\n",
              "      <th>1</th>\n",
              "      <td>181500</td>\n",
              "    </tr>\n",
              "    <tr>\n",
              "      <th>2</th>\n",
              "      <td>223500</td>\n",
              "    </tr>\n",
              "    <tr>\n",
              "      <th>3</th>\n",
              "      <td>140000</td>\n",
              "    </tr>\n",
              "    <tr>\n",
              "      <th>4</th>\n",
              "      <td>250000</td>\n",
              "    </tr>\n",
              "    <tr>\n",
              "      <th>...</th>\n",
              "      <td>...</td>\n",
              "    </tr>\n",
              "    <tr>\n",
              "      <th>1455</th>\n",
              "      <td>175000</td>\n",
              "    </tr>\n",
              "    <tr>\n",
              "      <th>1456</th>\n",
              "      <td>210000</td>\n",
              "    </tr>\n",
              "    <tr>\n",
              "      <th>1457</th>\n",
              "      <td>266500</td>\n",
              "    </tr>\n",
              "    <tr>\n",
              "      <th>1458</th>\n",
              "      <td>142125</td>\n",
              "    </tr>\n",
              "    <tr>\n",
              "      <th>1459</th>\n",
              "      <td>147500</td>\n",
              "    </tr>\n",
              "  </tbody>\n",
              "</table>\n",
              "<p>1460 rows × 1 columns</p>\n",
              "</div>\n",
              "      <button class=\"colab-df-convert\" onclick=\"convertToInteractive('df-9645edd5-d7a8-4e3e-8687-11312215b089')\"\n",
              "              title=\"Convert this dataframe to an interactive table.\"\n",
              "              style=\"display:none;\">\n",
              "        \n",
              "  <svg xmlns=\"http://www.w3.org/2000/svg\" height=\"24px\"viewBox=\"0 0 24 24\"\n",
              "       width=\"24px\">\n",
              "    <path d=\"M0 0h24v24H0V0z\" fill=\"none\"/>\n",
              "    <path d=\"M18.56 5.44l.94 2.06.94-2.06 2.06-.94-2.06-.94-.94-2.06-.94 2.06-2.06.94zm-11 1L8.5 8.5l.94-2.06 2.06-.94-2.06-.94L8.5 2.5l-.94 2.06-2.06.94zm10 10l.94 2.06.94-2.06 2.06-.94-2.06-.94-.94-2.06-.94 2.06-2.06.94z\"/><path d=\"M17.41 7.96l-1.37-1.37c-.4-.4-.92-.59-1.43-.59-.52 0-1.04.2-1.43.59L10.3 9.45l-7.72 7.72c-.78.78-.78 2.05 0 2.83L4 21.41c.39.39.9.59 1.41.59.51 0 1.02-.2 1.41-.59l7.78-7.78 2.81-2.81c.8-.78.8-2.07 0-2.86zM5.41 20L4 18.59l7.72-7.72 1.47 1.35L5.41 20z\"/>\n",
              "  </svg>\n",
              "      </button>\n",
              "      \n",
              "  <style>\n",
              "    .colab-df-container {\n",
              "      display:flex;\n",
              "      flex-wrap:wrap;\n",
              "      gap: 12px;\n",
              "    }\n",
              "\n",
              "    .colab-df-convert {\n",
              "      background-color: #E8F0FE;\n",
              "      border: none;\n",
              "      border-radius: 50%;\n",
              "      cursor: pointer;\n",
              "      display: none;\n",
              "      fill: #1967D2;\n",
              "      height: 32px;\n",
              "      padding: 0 0 0 0;\n",
              "      width: 32px;\n",
              "    }\n",
              "\n",
              "    .colab-df-convert:hover {\n",
              "      background-color: #E2EBFA;\n",
              "      box-shadow: 0px 1px 2px rgba(60, 64, 67, 0.3), 0px 1px 3px 1px rgba(60, 64, 67, 0.15);\n",
              "      fill: #174EA6;\n",
              "    }\n",
              "\n",
              "    [theme=dark] .colab-df-convert {\n",
              "      background-color: #3B4455;\n",
              "      fill: #D2E3FC;\n",
              "    }\n",
              "\n",
              "    [theme=dark] .colab-df-convert:hover {\n",
              "      background-color: #434B5C;\n",
              "      box-shadow: 0px 1px 3px 1px rgba(0, 0, 0, 0.15);\n",
              "      filter: drop-shadow(0px 1px 2px rgba(0, 0, 0, 0.3));\n",
              "      fill: #FFFFFF;\n",
              "    }\n",
              "  </style>\n",
              "\n",
              "      <script>\n",
              "        const buttonEl =\n",
              "          document.querySelector('#df-9645edd5-d7a8-4e3e-8687-11312215b089 button.colab-df-convert');\n",
              "        buttonEl.style.display =\n",
              "          google.colab.kernel.accessAllowed ? 'block' : 'none';\n",
              "\n",
              "        async function convertToInteractive(key) {\n",
              "          const element = document.querySelector('#df-9645edd5-d7a8-4e3e-8687-11312215b089');\n",
              "          const dataTable =\n",
              "            await google.colab.kernel.invokeFunction('convertToInteractive',\n",
              "                                                     [key], {});\n",
              "          if (!dataTable) return;\n",
              "\n",
              "          const docLinkHtml = 'Like what you see? Visit the ' +\n",
              "            '<a target=\"_blank\" href=https://colab.research.google.com/notebooks/data_table.ipynb>data table notebook</a>'\n",
              "            + ' to learn more about interactive tables.';\n",
              "          element.innerHTML = '';\n",
              "          dataTable['output_type'] = 'display_data';\n",
              "          await google.colab.output.renderOutput(dataTable, element);\n",
              "          const docLink = document.createElement('div');\n",
              "          docLink.innerHTML = docLinkHtml;\n",
              "          element.appendChild(docLink);\n",
              "        }\n",
              "      </script>\n",
              "    </div>\n",
              "  </div>\n",
              "  "
            ]
          },
          "metadata": {},
          "execution_count": 222
        }
      ]
    },
    {
      "cell_type": "markdown",
      "source": [
        "# **Splitting Dataset into Train & Test**"
      ],
      "metadata": {
        "id": "AkMQ1248o-D4"
      }
    },
    {
      "cell_type": "code",
      "source": [
        "from sklearn.model_selection import train_test_split\n",
        "x_train, x_test, y_train, y_test = train_test_split(x,y , test_size = 0.20 , random_state = 0)"
      ],
      "metadata": {
        "id": "99Q7GotdclBv"
      },
      "execution_count": 223,
      "outputs": []
    },
    {
      "cell_type": "markdown",
      "source": [
        "# **Training dataset using Linear Regression**"
      ],
      "metadata": {
        "id": "dB_wFkLdpwcH"
      }
    },
    {
      "cell_type": "code",
      "source": [
        "model = LinearRegression()\n",
        "model.fit(x_train,y_train)"
      ],
      "metadata": {
        "id": "VheGnz58clGh",
        "colab": {
          "base_uri": "https://localhost:8080/"
        },
        "outputId": "bdb9b622-1543-45a6-a999-a34faa29ff50"
      },
      "execution_count": 224,
      "outputs": [
        {
          "output_type": "execute_result",
          "data": {
            "text/plain": [
              "LinearRegression()"
            ]
          },
          "metadata": {},
          "execution_count": 224
        }
      ]
    },
    {
      "cell_type": "markdown",
      "source": [
        "# **Visualizing Linear Regression Results**"
      ],
      "metadata": {
        "id": "Oe6c4IZWznwD"
      }
    },
    {
      "cell_type": "code",
      "source": [
        "plt.scatter(x,y , color = 'red', marker = '*')\n",
        "plt.plot(x, model.predict(x))\n",
        "plt.title('Linear Regression')\n",
        "plt.xlabel('area')\n",
        "plt.ylabel('price')"
      ],
      "metadata": {
        "colab": {
          "base_uri": "https://localhost:8080/",
          "height": 312
        },
        "id": "n1Y2JUqjzlTb",
        "outputId": "aa9a98eb-f76c-420f-a258-771744e22588"
      },
      "execution_count": 226,
      "outputs": [
        {
          "output_type": "execute_result",
          "data": {
            "text/plain": [
              "Text(0, 0.5, 'price')"
            ]
          },
          "metadata": {},
          "execution_count": 226
        },
        {
          "output_type": "display_data",
          "data": {
            "text/plain": [
              "<Figure size 432x288 with 1 Axes>"
            ],
            "image/png": "[encoded data removed]"
          },
          "metadata": {
            "needs_background": "light"
          }
        }
      ]
    },
    {
      "cell_type": "markdown",
      "source": [
        "# **R-Squared:**![r2.png](data:image/png;base64,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)"
      ],
      "metadata": {
        "id": "n4u2w2EE6B9k"
      }
    },
    {
      "cell_type": "code",
      "source": [
        "Rsquared = model.score(x_test, y_test)\n",
        "Rsquared"
      ],
      "metadata": {
        "colab": {
          "base_uri": "https://localhost:8080/"
        },
        "id": "N-TEqeiUzmfR",
        "outputId": "648a482c-0df9-4412-9aac-dfec5fb6ffbb"
      },
      "execution_count": 227,
      "outputs": [
        {
          "output_type": "execute_result",
          "data": {
            "text/plain": [
              "0.08557014199167645"
            ]
          },
          "metadata": {},
          "execution_count": 227
        }
      ]
    },
    {
      "cell_type": "markdown",
      "source": [
        "# **R-suared value near to 0 so the Linear model is not suitable**"
      ],
      "metadata": {
        "id": "8ywSl_Z1ChBX"
      }
    },
    {
      "cell_type": "markdown",
      "source": [
        "# **Adjusted R-Squared of the model**![adj- r2.jpeg](data:image/jpeg;base64,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)"
      ],
      "metadata": {
        "id": "s7aNCd4d47QA"
      }
    },
    {
      "cell_type": "code",
      "source": [
        "N = len(df)  \n",
        "P = len(df.columns)-1\n",
        "adj = 1-(1-Rsquared)*(N-1)/(N-P-1)\n",
        "print(adj)"
      ],
      "metadata": {
        "colab": {
          "base_uri": "https://localhost:8080/"
        },
        "id": "F4q8B8JTzmi3",
        "outputId": "7564d66d-98fc-49ab-8321-3cb3d7f09fd8"
      },
      "execution_count": 228,
      "outputs": [
        {
          "output_type": "stream",
          "name": "stdout",
          "text": [
            "0.08494296101910559\n"
          ]
        }
      ]
    },
    {
      "cell_type": "markdown",
      "source": [
        "# **Prediction**"
      ],
      "metadata": {
        "id": "2BM1Uhx31vRM"
      }
    },
    {
      "cell_type": "code",
      "source": [
        "x = 8000\n",
        "LandAreainSquareft = [[x]]\n",
        "Predictmodelresult = model.predict(LandAreainSquareft)\n",
        "print(Predictmodelresult)"
      ],
      "metadata": {
        "id": "dHABfO6a2MAB",
        "outputId": "585d89e4-60f9-4c49-810c-73294c83013d",
        "colab": {
          "base_uri": "https://localhost:8080/"
        }
      },
      "execution_count": 229,
      "outputs": [
        {
          "output_type": "stream",
          "name": "stdout",
          "text": [
            "[[176008.46948802]]\n"
          ]
        },
        {
          "output_type": "stream",
          "name": "stderr",
          "text": [
            "/usr/local/lib/python3.7/dist-packages/sklearn/base.py:451: UserWarning: X does not have valid feature names, but LinearRegression was fitted with feature names\n",
            "  \"X does not have valid feature names, but\"\n"
          ]
        }
      ]
    },
    {
      "cell_type": "markdown",
      "source": [
        "# **Prediction was not good for Linear regression choose another Algorithm models**"
      ],
      "metadata": {
        "id": "NqRdqPUNCpHe"
      }
    },
    {
      "cell_type": "markdown",
      "source": [
        "# **Srinivasarao Taddi**"
      ],
      "metadata": {
        "id": "fFB46SID-Wp7"
      }
    }
  ]
}